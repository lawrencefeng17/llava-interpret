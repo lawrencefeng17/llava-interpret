{
 "cells": [
  {
   "cell_type": "code",
   "execution_count": 1,
   "id": "0ba0fc04",
   "metadata": {},
   "outputs": [],
   "source": [
    "import contextlib\n",
    "import requests\n",
    "import torch\n",
    "import transformers\n",
    "from PIL import Image\n",
    "\n",
    "contextlib.ExitStack().enter_context(torch.inference_mode())"
   ]
  },
  {
   "cell_type": "code",
   "execution_count": 2,
   "id": "06fa6900",
   "metadata": {},
   "outputs": [
    {
     "data": {
      "application/vnd.jupyter.widget-view+json": {
       "model_id": "1025e6de096247419e32d55fe8fe3cc6",
       "version_major": 2,
       "version_minor": 0
      },
      "text/plain": [
       "Downloading shards:   0%|          | 0/3 [00:00<?, ?it/s]"
      ]
     },
     "metadata": {},
     "output_type": "display_data"
    },
    {
     "data": {
      "application/vnd.jupyter.widget-view+json": {
       "model_id": "7abca19e80c54a818da52d9783bdd2a7",
       "version_major": 2,
       "version_minor": 0
      },
      "text/plain": [
       "Loading checkpoint shards:   0%|          | 0/3 [00:00<?, ?it/s]"
      ]
     },
     "metadata": {},
     "output_type": "display_data"
    },
    {
     "data": {
      "application/vnd.jupyter.widget-view+json": {
       "model_id": "3157a7c6734747d2abe2d33033cbcdeb",
       "version_major": 2,
       "version_minor": 0
      },
      "text/plain": [
       "tokenizer_config.json:   0%|          | 0.00/1.45k [00:00<?, ?B/s]"
      ]
     },
     "metadata": {},
     "output_type": "display_data"
    },
    {
     "name": "stderr",
     "output_type": "stream",
     "text": [
      "Some kwargs in processor config are unused and will not have any effect: num_additional_image_tokens. \n"
     ]
    }
   ],
   "source": [
    "model_name = \"llava-hf/llava-1.5-7b-hf\"\n",
    "\n",
    "model = transformers.LlavaForConditionalGeneration.from_pretrained(\n",
    "    model_name,\n",
    "    device_map=7,\n",
    "    quantization_config=transformers.BitsAndBytesConfig(load_in_8bit=True),\n",
    ")\n",
    "processor = transformers.AutoProcessor.from_pretrained(model_name)"
   ]
  },
  {
   "cell_type": "code",
   "execution_count": 3,
   "id": "d7853d8b",
   "metadata": {},
   "outputs": [],
   "source": [
    "from datasets import load_dataset\n",
    "\n",
    "imagenet_train = load_dataset('Maysee/tiny-imagenet', split='train')\n",
    "imagenet_val_combined = load_dataset('Maysee/tiny-imagenet', split='valid')"
   ]
  },
  {
   "cell_type": "code",
   "execution_count": 4,
   "id": "a3fb3f52",
   "metadata": {},
   "outputs": [],
   "source": [
    "imagenet_val_test = imagenet_val_combined.train_test_split(test_size=0.5, stratify_by_column='label')\n",
    "imagenet_val = imagenet_val_test['train']\n",
    "imagenet_test = imagenet_val_test['test']"
   ]
  },
  {
   "cell_type": "code",
   "execution_count": 5,
   "id": "dc912596",
   "metadata": {},
   "outputs": [],
   "source": [
    "def get_hidden_states(image, text):\n",
    "    conv = [\n",
    "        {\"role\": \"user\", \"content\": [\n",
    "            {\"type\": \"image\"},\n",
    "            {\"type\": \"text\", \"text\": text},\n",
    "        ]},\n",
    "    ]\n",
    "    prompt = processor.apply_chat_template(conv, add_generation_prompt=True)\n",
    "\n",
    "    inp = processor(image, prompt, return_tensors=\"pt\").to(model.device)\n",
    "\n",
    "    output = model(\n",
    "        **inp,\n",
    "        output_hidden_states=True,\n",
    "        num_logits_to_keep=1,\n",
    "        use_cache=False,\n",
    "    )\n",
    "    return torch.vstack(output.hidden_states)"
   ]
  },
  {
   "cell_type": "code",
   "execution_count": 6,
   "id": "3c0b781e-9f2b-4a0c-b459-6fbee969cca6",
   "metadata": {},
   "outputs": [],
   "source": [
    "import torch\n",
    "from torch.utils.data import Dataset\n",
    "\n",
    "class ImageNetDataset(Dataset):\n",
    "    def __init__(self, huggingface_dataset, transform=None):\n",
    "        \"\"\"\n",
    "        Args:\n",
    "            huggingface_dataset: Our ImageNet dataset from huggingface\n",
    "            transform: Potential transformation for the images\n",
    "        \"\"\"\n",
    "        self.dataset = huggingface_dataset\n",
    "        self.transform = transform\n",
    "\n",
    "    def __len__(self):\n",
    "        return len(self.dataset)\n",
    "\n",
    "    def __getitem__(self, idx):\n",
    "        image = self.dataset[idx]['image']\n",
    "        label = self.dataset[idx]['label']\n",
    "\n",
    "        # Apply the transform if specified\n",
    "        if self.transform:\n",
    "            image = self.transform(image)\n",
    "\n",
    "        return image, label, idx"
   ]
  },
  {
   "cell_type": "code",
   "execution_count": 9,
   "id": "77ff4de3-66f1-45d5-b04f-bde369f23427",
   "metadata": {
    "scrolled": true
   },
   "outputs": [
    {
     "name": "stderr",
     "output_type": "stream",
     "text": [
      "  0%|                                                                                                                                     | 0/100000 [00:00<?, ?it/s]It looks like you are trying to rescale already rescaled images. If the input images have pixel values between 0 and 1, set `do_rescale=False` to avoid rescaling them again.\n",
      "  0%|                                                                                                                                     | 0/100000 [00:33<?, ?it/s]"
     ]
    },
    {
     "name": "stdout",
     "output_type": "stream",
     "text": [
      "torch.Size([592, 4096])\n"
     ]
    },
    {
     "name": "stderr",
     "output_type": "stream",
     "text": [
      "\n"
     ]
    }
   ],
   "source": [
    "from torch.utils.data import DataLoader\n",
    "from tqdm import tqdm \n",
    "import h5py\n",
    "\n",
    "from torch.utils.data import DataLoader\n",
    "from torchvision import transforms\n",
    "\n",
    "# Example transformation function: this is for use with Vision Transformers\n",
    "transform = transforms.Compose([\n",
    "    transforms.ToTensor(),\n",
    "    transforms.Lambda(lambda x: x.repeat(3, 1, 1) if x.size(0) == 1 else x), # apparently some images are not RGB\n",
    "])\n",
    "\n",
    "train_dataset = ImageNetDataset(imagenet_train, transform=transform)\n",
    "train_dataloader = DataLoader(train_dataset, shuffle=True)\n",
    "\n",
    "hdf5_file = h5py.File(\"hidden_states.h5\", \"w\")\n",
    "\n",
    "for image, label, idx in tqdm(train_dataloader):\n",
    "    hidden_states = get_hidden_states(image, \"describe the image\")\n",
    "    hidden_states = hidden_states[-1]\n",
    "    print(hidden_states.shape)\n",
    "    torch.save(hidden_states, f\"/raid/lawrence/hidden_states/{label}_{idx}.pt\")\n",
    "    break"
   ]
  },
  {
   "cell_type": "markdown",
   "id": "d06a5f78-9d4f-4455-8a85-6a8332fff5a0",
   "metadata": {},
   "source": [
    "    conv = [\n",
    "    {\"role\": \"user\", \"content\": [\n",
    "        {\"type\": \"image\"},\n",
    "        {\"type\": \"text\", \"text\": \"describe the image\"},\n",
    "    ]},\n",
    "]\n",
    "prompt = processor.apply_chat_template(conv, add_generation_prompt=True)\n",
    "\n",
    "im_url = \"https://llava-vl.github.io/static/images/view.jpg\"\n",
    "\n",
    "with requests.get(im_url, stream=True) as im:\n",
    "    with Image.open(im.raw) as im:\n",
    "        inp = processor(im, prompt, return_tensors=\"pt\")"
   ]
  },
  {
   "cell_type": "code",
   "execution_count": 76,
   "id": "036b9327-ab8c-4d31-b1eb-c9f93395691d",
   "metadata": {},
   "outputs": [
    {
     "name": "stdout",
     "output_type": "stream",
     "text": [
      "The\n"
     ]
    }
   ],
   "source": [
    "streamer = transformers.TextStreamer(\n",
    "    processor.tokenizer,\n",
    "    True,\n",
    "    skip_special_tokens=True,\n",
    ")\n",
    "output1 = model.generate(\n",
    "    **inp.to(model.device),\n",
    "    max_new_tokens=1,\n",
    "    streamer=streamer,\n",
    "    output_hidden_states=True,\n",
    "    return_dict_in_generate=True,\n",
    ")\n",
    "\n",
    "hidden1 = torch.vstack(output1.hidden_states[0])"
   ]
  },
  {
   "cell_type": "code",
   "execution_count": 77,
   "id": "edbd483f-b530-40e5-ade3-5e0f4e229a49",
   "metadata": {},
   "outputs": [
    {
     "name": "stdout",
     "output_type": "stream",
     "text": [
      "The image features a pier extending out into a large\n"
     ]
    }
   ],
   "source": [
    "streamer = transformers.TextStreamer(\n",
    "    processor.tokenizer,\n",
    "    True,\n",
    "    skip_special_tokens=True,\n",
    ")\n",
    "output2 = model.generate(\n",
    "    **inp.to(model.device),\n",
    "    max_new_tokens=10,\n",
    "    streamer=streamer,\n",
    "    output_hidden_states=True,\n",
    "    return_dict_in_generate=True,\n",
    ")\n",
    "\n",
    "hidden2 = torch.vstack(output2.hidden_states[0])"
   ]
  },
  {
   "cell_type": "code",
   "execution_count": 79,
   "id": "8051e038-22ea-462c-836e-0f0c0a0cd6e4",
   "metadata": {},
   "outputs": [
    {
     "data": {
      "text/plain": [
       "tensor([[True, True, True,  ..., True, True, True],\n",
       "        [True, True, True,  ..., True, True, True],\n",
       "        [True, True, True,  ..., True, True, True],\n",
       "        ...,\n",
       "        [True, True, True,  ..., True, True, True],\n",
       "        [True, True, True,  ..., True, True, True],\n",
       "        [True, True, True,  ..., True, True, True]], device='cuda:0')"
      ]
     },
     "execution_count": 79,
     "metadata": {},
     "output_type": "execute_result"
    }
   ],
   "source": [
    "hidden1[-1] == hidden2[-1]"
   ]
  },
  {
   "cell_type": "code",
   "execution_count": 9,
   "id": "2dad1513-1e9d-4d36-8ce8-e71cdaaf2302",
   "metadata": {},
   "outputs": [
    {
     "data": {
      "application/vnd.jupyter.widget-view+json": {
       "model_id": "3bf7a45f6ddf4fa69f5b9de5b1d09b25",
       "version_major": 2,
       "version_minor": 0
      },
      "text/plain": [
       "Loading checkpoint shards:   0%|          | 0/3 [00:00<?, ?it/s]"
      ]
     },
     "metadata": {},
     "output_type": "display_data"
    },
    {
     "name": "stderr",
     "output_type": "stream",
     "text": [
      "Some kwargs in processor config are unused and will not have any effect: num_additional_image_tokens. \n"
     ]
    },
    {
     "data": {
      "text/plain": [
       "\"USER:  \\nWhat's the content of the image? ASSISTANT: The\""
      ]
     },
     "execution_count": 9,
     "metadata": {},
     "output_type": "execute_result"
    }
   ],
   "source": [
    "from PIL import Image\n",
    "import requests\n",
    "from transformers import AutoProcessor, LlavaForConditionalGeneration\n",
    "\n",
    "model = LlavaForConditionalGeneration.from_pretrained(\"llava-hf/llava-1.5-7b-hf\")\n",
    "processor = AutoProcessor.from_pretrained(\"llava-hf/llava-1.5-7b-hf\")\n",
    "\n",
    "prompt = \"USER: <image>\\nWhat's the content of the image? ASSISTANT:\"\n",
    "url = \"https://www.ilankelman.org/stopsigns/australia.jpg\"\n",
    "image = Image.open(requests.get(url, stream=True).raw)\n",
    "\n",
    "inputs = processor(images=image, text=prompt, return_tensors=\"pt\")\n",
    "\n",
    "# Generate\n",
    "generate_ids = model.generate(**inputs, max_new_tokens=1)\n",
    "processor.batch_decode(generate_ids, skip_special_tokens=True, clean_up_tokenization_spaces=False)[0]"
   ]
  },
  {
   "cell_type": "code",
   "execution_count": null,
   "id": "20849381-8e0b-4756-b2fe-68248bdd6da4",
   "metadata": {},
   "outputs": [],
   "source": []
  }
 ],
 "metadata": {
  "kernelspec": {
   "display_name": "Python 3 (ipykernel)",
   "language": "python",
   "name": "python3"
  },
  "language_info": {
   "codemirror_mode": {
    "name": "ipython",
    "version": 3
   },
   "file_extension": ".py",
   "mimetype": "text/x-python",
   "name": "python",
   "nbconvert_exporter": "python",
   "pygments_lexer": "ipython3",
   "version": "3.12.7"
  }
 },
 "nbformat": 4,
 "nbformat_minor": 5
}
