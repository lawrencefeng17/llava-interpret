{
 "cells": [
  {
   "cell_type": "code",
   "execution_count": 1,
   "id": "bbb9ae17-a580-45c5-85f2-88588986154d",
   "metadata": {},
   "outputs": [],
   "source": [
    "import os\n",
    "os.environ[\"CUDA_VISIBLE_DEVICES\"] = \"7\""
   ]
  },
  {
   "cell_type": "code",
   "execution_count": 2,
   "id": "eb044853-4c40-4816-ac2d-341daa7998de",
   "metadata": {},
   "outputs": [],
   "source": [
    "import contextlib\n",
    "import requests\n",
    "import torch\n",
    "import transformers\n",
    "from PIL import Image\n",
    "from pathlib import Path"
   ]
  },
  {
   "cell_type": "code",
   "execution_count": 3,
   "id": "acec3a9b-b555-4a14-9154-3bebf777dafd",
   "metadata": {},
   "outputs": [
    {
     "name": "stdout",
     "output_type": "stream",
     "text": [
      "7\n"
     ]
    }
   ],
   "source": [
    "!echo $CUDA_VISIBLE_DEVICES"
   ]
  },
  {
   "cell_type": "code",
   "execution_count": 4,
   "id": "7b77487c-1b69-4867-8e67-b6c52508e119",
   "metadata": {},
   "outputs": [],
   "source": [
    "contextlib.ExitStack().enter_context(torch.inference_mode())"
   ]
  },
  {
   "cell_type": "code",
   "execution_count": 5,
   "id": "4a23998a-34e5-4d38-b7ef-ea57e1bd1ea6",
   "metadata": {},
   "outputs": [
    {
     "data": {
      "application/vnd.jupyter.widget-view+json": {
       "model_id": "ba6311958c1c4ca38f0d9f0bd2eb4216",
       "version_major": 2,
       "version_minor": 0
      },
      "text/plain": [
       "Loading checkpoint shards:   0%|          | 0/3 [00:00<?, ?it/s]"
      ]
     },
     "metadata": {},
     "output_type": "display_data"
    },
    {
     "name": "stderr",
     "output_type": "stream",
     "text": [
      "Some kwargs in processor config are unused and will not have any effect: num_additional_image_tokens. \n"
     ]
    }
   ],
   "source": [
    "model_name = \"llava-hf/llava-1.5-7b-hf\"\n",
    "\n",
    "model = transformers.LlavaForConditionalGeneration.from_pretrained(\n",
    "    model_name,\n",
    "    device_map='auto',\n",
    "    quantization_config=transformers.BitsAndBytesConfig(load_in_8bit=True),\n",
    ")\n",
    "processor = transformers.AutoProcessor.from_pretrained(model_name)"
   ]
  },
  {
   "cell_type": "code",
   "execution_count": 5,
   "id": "970f8b74-98a9-444b-aca7-022809cf4d4e",
   "metadata": {},
   "outputs": [],
   "source": [
    "import os\n",
    "import torch\n",
    "import numpy as np\n",
    "import matplotlib.pyplot as plt\n",
    "from sklearn.decomposition import PCA\n",
    "from sklearn.manifold import TSNE\n",
    "import umap\n",
    "\n",
    "import psutil\n",
    "import time\n",
    "from tqdm import tqdm\n",
    "\n",
    "# Load tensors\n",
    "def load_tensors(folder):\n",
    "    data = []\n",
    "    for file in tqdm(os.listdir(folder)):\n",
    "        memory_usage = psutil.virtual_memory().percent\n",
    "        if memory_usage > 90:\n",
    "            print(\"Memory usage exceeded 90%. Breaking the loop.\")\n",
    "            break\n",
    "        if file.endswith(\".pt\"):  # Assuming tensors are saved as .pt files\n",
    "            label = file.split('[')[1].split(']')[0]\n",
    "            try:\n",
    "                tensor = torch.load(os.path.join(folder, file), map_location='cpu')\n",
    "            except:\n",
    "                continue\n",
    "            data.append((label, tensor))\n",
    "    return data\n",
    "\n",
    "# Dimensionality reduction\n",
    "def reduce_dimension(data, method=\"PCA\", n_components=2):\n",
    "    flattened_data = []\n",
    "    labels = []\n",
    "    for label, tensor in data:\n",
    "        mean_activation = tensor.mean(dim=0)  # Mean pooling over tokens\n",
    "        flattened_data.append(mean_activation.detach().numpy())\n",
    "        labels.append(label)\n",
    "\n",
    "    flattened_data = np.array(flattened_data)\n",
    "    if method == \"PCA\":\n",
    "        reducer = PCA(n_components=n_components)\n",
    "    elif method == \"TSNE\":\n",
    "        reducer = TSNE(n_components=n_components)\n",
    "    elif method == \"UMAP\":\n",
    "        reducer = umap.UMAP(n_components=n_components, random_state=42)\n",
    "    else:\n",
    "        raise ValueError(\"Unsupported reduction method\")\n",
    "    reduced_data = reducer.fit_transform(flattened_data)\n",
    "    return reduced_data, labels\n",
    "    \n",
    "# Plot\n",
    "def plot_2d(data, labels, title=\"Hidden States Visualization\"):\n",
    "    unique_labels = list(set(labels))\n",
    "    colors = plt.cm.get_cmap(\"tab10\", len(unique_labels))\n",
    "    plt.figure(figsize=(10, 8))\n",
    "\n",
    "    for i, label in enumerate(unique_labels):\n",
    "        indices = [j for j, lbl in enumerate(labels) if lbl == label]\n",
    "        plt.scatter(data[indices, 0], data[indices, 1], label=label, color=colors(i))\n",
    "\n",
    "    plt.title(title)\n",
    "    plt.xlabel(\"Component 1\")\n",
    "    plt.ylabel(\"Component 2\")\n",
    "    plt.legend()\n",
    "    plt.show()"
   ]
  },
  {
   "cell_type": "code",
   "execution_count": 6,
   "id": "577cdc23-5eff-4783-9dfb-94cc5dcc6e21",
   "metadata": {
    "scrolled": true
   },
   "outputs": [],
   "source": [
    "folder_path = \"/raid/lawrence/hidden_states/\""
   ]
  },
  {
   "cell_type": "code",
   "execution_count": 7,
   "id": "c7ac53b9-ef98-40ca-a058-c7e61fc1e0cb",
   "metadata": {},
   "outputs": [
    {
     "name": "stderr",
     "output_type": "stream",
     "text": [
      "100%|███████████████████████████████████████████████████████████████████████████████████████████████████████████| 100/100 [1:09:58<00:00, 41.98s/it]\n"
     ]
    }
   ],
   "source": [
    "tensors = []\n",
    "for file in tqdm(os.listdir(folder_path)):\n",
    "    data = np.load(folder_path + file)\n",
    "    tensor = torch.from_numpy(data['hidden_states'])\n",
    "    tensors.append(tensor)"
   ]
  },
  {
   "cell_type": "code",
   "execution_count": 12,
   "id": "50ecbce2-42f6-4035-b90d-1d2e2124c517",
   "metadata": {},
   "outputs": [
    {
     "data": {
      "text/plain": [
       "(100, torch.Size([1000, 592, 4096]))"
      ]
     },
     "execution_count": 12,
     "metadata": {},
     "output_type": "execute_result"
    }
   ],
   "source": [
    "len(tensors), tensors[0].shape"
   ]
  },
  {
   "cell_type": "code",
   "execution_count": 8,
   "id": "a5e41f2a-ae53-43a9-9f7c-f2066f39af58",
   "metadata": {},
   "outputs": [],
   "source": [
    "from collections import defaultdict\n",
    "def filter(data):\n",
    "    print(len(data))\n",
    "    label_to_values = defaultdict(list)\n",
    "    for label, value in data:\n",
    "        label_to_values[label].append(value)\n",
    "\n",
    "    # print([len(value) for key, value in label_to_values.items()])\n",
    "    \n",
    "    # Step 2: Filter labels with more than one value\n",
    "    filtered_labels = {label for label, values in label_to_values.items() if len(values) > 10}\n",
    "    \n",
    "    # Step 3: Filter the original list\n",
    "    filtered_data = [(label, value) for label, value in data if label in filtered_labels]\n",
    "    print(len(filtered_data))\n",
    "    return filtered_data"
   ]
  },
  {
   "cell_type": "code",
   "execution_count": null,
   "id": "6bb57abe-fde8-4e67-892e-12967ededbb6",
   "metadata": {
    "scrolled": true
   },
   "outputs": [],
   "source": [
    "filtered_data = filter(data)\n",
    "reduced_data, labels = reduce_dimension(filtered_data, method=\"UMAP\")  # or method=\"TSNE\"\n",
    "plot_2d(reduced_data, labels)"
   ]
  },
  {
   "cell_type": "code",
   "execution_count": 42,
   "id": "1bdfe93e-901d-4a28-b2e5-699a81034c76",
   "metadata": {},
   "outputs": [
    {
     "name": "stderr",
     "output_type": "stream",
     "text": [
      "/tmp/ipykernel_3028387/2710996388.py:54: MatplotlibDeprecationWarning: The get_cmap function was deprecated in Matplotlib 3.7 and will be removed in 3.11. Use ``matplotlib.colormaps[name]`` or ``matplotlib.colormaps.get_cmap()`` or ``pyplot.get_cmap()`` instead.\n",
      "  colors = plt.cm.get_cmap(\"tab10\", len(unique_labels))\n"
     ]
    },
    {
     "data": {
      "image/png": "[encoded data removed]",
      "text/plain": [
       "<Figure size 1000x800 with 1 Axes>"
      ]
     },
     "metadata": {},
     "output_type": "display_data"
    }
   ],
   "source": [
    "chosen = [str(i) for i in range(55,65)]\n",
    "filtered_special = [(label, value) for label, value in data if label in chosen]\n",
    "reduced_data, labels = reduce_dimension(filtered_special, method=\"PCA\")  # or method=\"TSNE\"\n",
    "plot_2d(reduced_data, labels)"
   ]
  },
  {
   "cell_type": "markdown",
   "id": "72734576",
   "metadata": {},
   "source": [
    "# Hooked Transformer EDA"
   ]
  },
  {
   "cell_type": "code",
   "execution_count": 1,
   "id": "6fc3c2c6",
   "metadata": {},
   "outputs": [],
   "source": [
    "import os\n",
    "os.environ[\"CUDA_VISIBLE_DEVICES\"] = \"7\""
   ]
  },
  {
   "cell_type": "code",
   "execution_count": 5,
   "id": "e7bb1867",
   "metadata": {},
   "outputs": [
    {
     "data": {
      "application/vnd.jupyter.widget-view+json": {
       "model_id": "41de60dc72c8455f93b3e2aefdda344a",
       "version_major": 2,
       "version_minor": 0
      },
      "text/plain": [
       "Loading checkpoint shards:   0%|          | 0/3 [00:00<?, ?it/s]"
      ]
     },
     "metadata": {},
     "output_type": "display_data"
    }
   ],
   "source": [
    "import contextlib\n",
    "import requests\n",
    "import torch\n",
    "import transformer_lens\n",
    "import transformers\n",
    "from tempfile import TemporaryDirectory\n",
    "from PIL import Image\n",
    "\n",
    "es = contextlib.ExitStack()\n",
    "es.enter_context(torch.inference_mode())\n",
    "\n",
    "model_name = \"Intel/llava-gemma-2b\"\n",
    "model = transformers.AutoModelForImageTextToText.from_pretrained(\n",
    "    model_name,\n",
    "    torch_dtype=torch.float16,\n",
    "    device_map=\"auto\",\n",
    ")\n",
    "processor = transformers.AutoProcessor.from_pretrained(model_name)\n",
    "processor.patch_size = model.config.vision_config.patch_size\n",
    "processor.vision_feature_select_strategy = model.config.vision_feature_select_strategy\n",
    "\n",
    "def get_hooked_model(model, tokenizer):\n",
    "    with TemporaryDirectory() as model_name:\n",
    "        model.config.save_pretrained(model_name)\n",
    "        cfg = transformer_lens.loading.get_pretrained_model_config(\n",
    "            model_name,\n",
    "            device=model.device,\n",
    "            dtype=model.dtype,\n",
    "        )\n",
    "        state_dict = transformer_lens.loading.get_pretrained_state_dict(\n",
    "            model_name,\n",
    "            cfg,\n",
    "            model,\n",
    "        )\n",
    "        for k, v in state_dict.items():\n",
    "            if v.device != model.device:\n",
    "                state_dict[k] = v.to(model.device)\n",
    "    hooked_model = transformer_lens.HookedTransformer(cfg, tokenizer)\n",
    "    hooked_model.load_and_process_state_dict(\n",
    "        state_dict,\n",
    "        fold_ln=False,\n",
    "        center_writing_weights=False,\n",
    "        center_unembed=False,\n",
    "        fold_value_biases=False,\n",
    "    )\n",
    "    return hooked_model\n",
    "\n",
    "hooked_model = get_hooked_model(model.language_model, processor.tokenizer)\n",
    "\n",
    "def get_input_embeds(input_ids, pixel_values):\n",
    "    input_embeds = model.get_input_embeddings()(input_ids)\n",
    "    image_features = model.get_image_features(\n",
    "        pixel_values,\n",
    "        model.config.vision_feature_layer,\n",
    "        model.config.vision_feature_select_strategy,\n",
    "    )\n",
    "    input_embeds[input_ids == model.config.image_token_index] = image_features\n",
    "    return input_embeds\n",
    "\n",
    "def run_model(prompt, image):\n",
    "    inp = processor(image, prompt, return_tensors=\"pt\").to(model.device)\n",
    "    input_embeds = get_input_embeds(inp.input_ids, inp.pixel_values)\n",
    "    input_embeds *= hooked_model.cfg.d_model ** 0.5\n",
    "    return hooked_model.run_with_cache(input_embeds, start_at_layer=0)\n",
    "\n",
    "conversation = [{\"role\": \"user\", \"content\": processor.image_token + \"\\nWhere is the water in the image?\"}]\n",
    "prompt = processor.tokenizer.apply_chat_template(conversation, add_generation_prompt=True, tokenize=False)\n",
    "\n",
    "image = requests.get(\"https://llava-vl.github.io/static/images/view.jpg\", stream=True)\n",
    "image = Image.open(image.raw)\n",
    "\n",
    "import sys\n",
    "\n",
    "# if mode == \"A\":\n",
    "#     logits, activations = run_model(prompt, image)\n",
    "#     print(logits)\n",
    "#     print(activations)\n",
    "# else:\n",
    "#     inp = processor(image, prompt, return_tensors=\"pt\").to(model.device)\n",
    "#     input_embeds = get_input_embeds(inp.input_ids, inp.pixel_values)\n",
    "\n",
    "#     if mode == \"B\":\n",
    "#         while True:\n",
    "#             next_token = model.language_model(inputs_embeds=input_embeds, use_cache=False).logits[0, -1].argmax()\n",
    "#             print(end=processor.tokenizer.decode(next_token), flush=True)\n",
    "#             input_embeds = torch.cat([input_embeds, model.get_input_embeddings()(next_token).unsqueeze(0).unsqueeze(0)], 1)\n",
    "#     elif mode == \"C\":\n",
    "#         input_embeds *= hooked_model.cfg.d_model ** 0.5\n",
    "#         while True:\n",
    "#             next_token = hooked_model(input_embeds, start_at_layer=0)[0, -1].argmax()\n",
    "#             print(end=processor.tokenizer.decode(next_token), flush=True)\n",
    "#             input_embeds = torch.cat([input_embeds, hooked_model.embed(next_token).unsqueeze(0).unsqueeze(0)], 1)"
   ]
  },
  {
   "cell_type": "code",
   "execution_count": null,
   "id": "439de37d",
   "metadata": {},
   "outputs": [],
   "source": []
  },
  {
   "cell_type": "code",
   "execution_count": 6,
   "id": "86471c01",
   "metadata": {},
   "outputs": [],
   "source": [
    "# from transformer_lens import HookedTransformer\n",
    "from sae_lens import SAE, HookedSAETransformer\n",
    "import transformer_lens.utils as utils\n",
    "\n",
    "# the cfg dict is returned alongside the SAE since it may contain useful information for analysing the SAE (eg: instantiating an activation store)\n",
    "# Note that this is not the same as the SAEs config dict, rather it is whatever was in the HF repo, from which we can extract the SAE config dict\n",
    "# We also return the feature sparsities which are stored in HF for convenience.\n",
    "sae, cfg_dict, sparsity = SAE.from_pretrained(\n",
    "    release=\"gemma-2b-res-jb\",  # <- Release name\n",
    "    sae_id=\"blocks.12.hook_resid_post\",  # <- SAE id (not always a hook point!)\n",
    "    device='cuda:0',\n",
    ")"
   ]
  },
  {
   "cell_type": "code",
   "execution_count": 7,
   "id": "72d71b8b",
   "metadata": {},
   "outputs": [],
   "source": [
    "encoded = sae.encode(run_model(prompt, image)[1][sae.cfg.hook_name])"
   ]
  },
  {
   "cell_type": "markdown",
   "id": "31f4d5a1",
   "metadata": {},
   "source": [
    "# Imagenet"
   ]
  },
  {
   "cell_type": "code",
   "execution_count": 8,
   "id": "f3c740bc",
   "metadata": {},
   "outputs": [],
   "source": [
    "from datasets import load_dataset\n",
    "\n",
    "imagenet_train = load_dataset('Maysee/tiny-imagenet', split='train')\n",
    "imagenet_val_combined = load_dataset('Maysee/tiny-imagenet', split='valid')"
   ]
  },
  {
   "cell_type": "code",
   "execution_count": 9,
   "id": "4f60d684",
   "metadata": {},
   "outputs": [],
   "source": [
    "imagenet_val_test = imagenet_val_combined.train_test_split(test_size=0.5, stratify_by_column='label')\n",
    "imagenet_val = imagenet_val_test['train']\n",
    "imagenet_test = imagenet_val_test['test']"
   ]
  },
  {
   "cell_type": "code",
   "execution_count": 10,
   "id": "cfc3b838",
   "metadata": {},
   "outputs": [],
   "source": [
    "import torch\n",
    "from torch.utils.data import Dataset\n",
    "\n",
    "class ImageNetDataset(Dataset):\n",
    "    def __init__(self, huggingface_dataset, transform=None):\n",
    "        \"\"\"\n",
    "        Args:\n",
    "            huggingface_dataset: Our ImageNet dataset from huggingface\n",
    "            transform: Potential transformation for the images\n",
    "        \"\"\"\n",
    "        self.dataset = huggingface_dataset\n",
    "        self.transform = transform\n",
    "\n",
    "    def __len__(self):\n",
    "        return len(self.dataset)\n",
    "\n",
    "    def __getitem__(self, idx):\n",
    "        image = self.dataset[idx]['image']\n",
    "        label = self.dataset[idx]['label']\n",
    "\n",
    "        # Apply the transform if specified\n",
    "        if self.transform:\n",
    "            image = self.transform(image)\n",
    "\n",
    "        return image, label, idx"
   ]
  },
  {
   "cell_type": "code",
   "execution_count": null,
   "id": "13e79182",
   "metadata": {},
   "outputs": [],
   "source": [
    "from torch.utils.data import DataLoader\n",
    "from tqdm import tqdm \n",
    "import h5py\n",
    "import gzip\n",
    "\n",
    "from torch.utils.data import DataLoader\n",
    "from torchvision import transforms\n",
    "\n",
    "# Example transformation function: this is for use with Vision Transformers\n",
    "transform = transforms.Compose([\n",
    "    transforms.ToTensor(),\n",
    "    transforms.Lambda(lambda x: x.repeat(3, 1, 1) if x.size(0) == 1 else x), # apparently some images are not RGB\n",
    "])\n",
    "\n",
    "train_dataset = ImageNetDataset(imagenet_train, transform=transform)\n",
    "train_dataloader = DataLoader(train_dataset, shuffle=True)"
   ]
  },
  {
   "cell_type": "code",
   "execution_count": null,
   "id": "98df9cda",
   "metadata": {},
   "outputs": [],
   "source": [
    "def gather_activations(c):\n",
    "    # Create a list of all the images of the class\n",
    "    class_images\n",
    "            \n",
    "    neuron_activations = []\n",
    "    for image in tqdm(class_images):\n",
    "        encoded = sae.encode(run_model(prompt, image)[1][sae.cfg.hook_name]).cpu()\n",
    "        neuron_activations.append(encoded)\n"
   ]
  },
  {
   "cell_type": "code",
   "execution_count": 72,
   "id": "71b8a2be",
   "metadata": {},
   "outputs": [
    {
     "name": "stderr",
     "output_type": "stream",
     "text": [
      "100%|█████████████████████████████████████████████████████████████████████████████████████████████████████| 100000/100000 [00:24<00:00, 4006.70it/s]\n",
      " 43%|██████████████████████████████████████████████▋                                                              | 214/500 [00:30<00:41,  6.95it/s]\n",
      "  0%|                                                                                                                       | 0/200 [00:55<?, ?it/s]\n"
     ]
    },
    {
     "ename": "KeyboardInterrupt",
     "evalue": "",
     "output_type": "error",
     "traceback": [
      "\u001b[0;31m---------------------------------------------------------------------------\u001b[0m",
      "\u001b[0;31mKeyboardInterrupt\u001b[0m                         Traceback (most recent call last)",
      "Cell \u001b[0;32mIn[72], line 3\u001b[0m\n\u001b[1;32m      1\u001b[0m activations \u001b[38;5;241m=\u001b[39m []\n\u001b[1;32m      2\u001b[0m \u001b[38;5;28;01mfor\u001b[39;00m c \u001b[38;5;129;01min\u001b[39;00m tqdm(\u001b[38;5;28mrange\u001b[39m(\u001b[38;5;241m200\u001b[39m)):\n\u001b[0;32m----> 3\u001b[0m     activations\u001b[38;5;241m.\u001b[39mappend(\u001b[43mgather_activations\u001b[49m\u001b[43m(\u001b[49m\u001b[43mc\u001b[49m\u001b[43m)\u001b[49m)\n",
      "Cell \u001b[0;32mIn[63], line 10\u001b[0m, in \u001b[0;36mgather_activations\u001b[0;34m(c)\u001b[0m\n\u001b[1;32m      8\u001b[0m neuron_activations \u001b[38;5;241m=\u001b[39m []\n\u001b[1;32m      9\u001b[0m \u001b[38;5;28;01mfor\u001b[39;00m image \u001b[38;5;129;01min\u001b[39;00m tqdm(class_images):\n\u001b[0;32m---> 10\u001b[0m     encoded \u001b[38;5;241m=\u001b[39m \u001b[43msae\u001b[49m\u001b[38;5;241;43m.\u001b[39;49m\u001b[43mencode\u001b[49m\u001b[43m(\u001b[49m\u001b[43mrun_model\u001b[49m\u001b[43m(\u001b[49m\u001b[43mprompt\u001b[49m\u001b[43m,\u001b[49m\u001b[43m \u001b[49m\u001b[43mimage\u001b[49m\u001b[43m)\u001b[49m\u001b[43m[\u001b[49m\u001b[38;5;241;43m1\u001b[39;49m\u001b[43m]\u001b[49m\u001b[43m[\u001b[49m\u001b[43msae\u001b[49m\u001b[38;5;241;43m.\u001b[39;49m\u001b[43mcfg\u001b[49m\u001b[38;5;241;43m.\u001b[39;49m\u001b[43mhook_name\u001b[49m\u001b[43m]\u001b[49m\u001b[43m)\u001b[49m\u001b[38;5;241;43m.\u001b[39;49m\u001b[43mcpu\u001b[49m\u001b[43m(\u001b[49m\u001b[43m)\u001b[49m\n\u001b[1;32m     11\u001b[0m     neuron_activations\u001b[38;5;241m.\u001b[39mappend(encoded)\n",
      "\u001b[0;31mKeyboardInterrupt\u001b[0m: "
     ]
    }
   ],
   "source": [
    "activations = []\n",
    "for c in tqdm(range(200)):\n",
    "    activations.append(gather_activations(c))"
   ]
  },
  {
   "cell_type": "code",
   "execution_count": 56,
   "id": "7f634b2c",
   "metadata": {},
   "outputs": [],
   "source": [
    "# Gather statistics about neuron activations\n",
    "\n",
    "import matplotlib.pyplot as plt\n",
    "\n",
    "stacked = torch.stack(neuron_activations, dim=0)\n",
    "\n",
    "results = torch.sum(stacked, dim=0).squeeze(0)"
   ]
  },
  {
   "cell_type": "code",
   "execution_count": 57,
   "id": "bcd90e0b",
   "metadata": {},
   "outputs": [
    {
     "data": {
      "text/plain": [
       "torch.Size([595, 16384])"
      ]
     },
     "execution_count": 57,
     "metadata": {},
     "output_type": "execute_result"
    }
   ],
   "source": [
    "results.shape"
   ]
  },
  {
   "cell_type": "code",
   "execution_count": 58,
   "id": "447b7d58",
   "metadata": {},
   "outputs": [
    {
     "data": {
      "text/plain": [
       "tensor([12176, 15314,  3539,  8207,  9987, 13614,  9864,  1321, 10063, 12382])"
      ]
     },
     "execution_count": 58,
     "metadata": {},
     "output_type": "execute_result"
    }
   ],
   "source": [
    "torch.topk(results, 10, dim=-1).indices[587]"
   ]
  },
  {
   "cell_type": "code",
   "execution_count": 60,
   "id": "47786322",
   "metadata": {},
   "outputs": [
    {
     "data": {
      "text/plain": [
       "torch.Size([16384])"
      ]
     },
     "execution_count": 60,
     "metadata": {},
     "output_type": "execute_result"
    }
   ],
   "source": [
    "torch.argmax(results, dim=0).shape"
   ]
  },
  {
   "cell_type": "code",
   "execution_count": 52,
   "id": "0945d51e",
   "metadata": {},
   "outputs": [
    {
     "data": {
      "text/plain": [
       "Text(0.5, 1.0, 'Histogram of activations')"
      ]
     },
     "execution_count": 52,
     "metadata": {},
     "output_type": "execute_result"
    },
    {
     "data": {
      "image/png": "[encoded data removed]",
      "text/plain": [
       "<Figure size 640x480 with 1 Axes>"
      ]
     },
     "metadata": {},
     "output_type": "display_data"
    }
   ],
   "source": [
    "plt.hist(torch.argmax(results, dim=0).numpy(), bins=100)\n",
    "plt.title(\"Histogram of activations\")"
   ]
  }
 ],
 "metadata": {
  "kernelspec": {
   "display_name": "Python 3 (ipykernel)",
   "language": "python",
   "name": "python3"
  },
  "language_info": {
   "codemirror_mode": {
    "name": "ipython",
    "version": 3
   },
   "file_extension": ".py",
   "mimetype": "text/x-python",
   "name": "python",
   "nbconvert_exporter": "python",
   "pygments_lexer": "ipython3",
   "version": "3.12.7"
  }
 },
 "nbformat": 4,
 "nbformat_minor": 5
}
